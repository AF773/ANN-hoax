{
  "nbformat": 4,
  "nbformat_minor": 0,
  "metadata": {
    "colab": {
      "name": " ANN_(hoax).ipynb",
      "provenance": [],
      "collapsed_sections": []
    },
    "kernelspec": {
      "name": "python3",
      "display_name": "Python 3"
    }
  },
  "cells": [
    {
      "cell_type": "markdown",
      "metadata": {
        "id": "fd9tEKUKJt20"
      },
      "source": [
        "**Load Library**"
      ]
    },
    {
      "cell_type": "code",
      "metadata": {
        "id": "D365Rk1p0XKE"
      },
      "source": [
        "from sklearn.datasets import load_breast_cancer\n",
        "from sklearn.model_selection import train_test_split\n",
        "from sklearn.preprocessing import StandardScaler\n",
        "from sklearn.neural_network import MLPClassifier\n",
        "from sklearn.metrics import classification_report,confusion_matrix\n",
        "from sklearn.preprocessing import LabelEncoder\n",
        "from sklearn import metrics\n",
        "import numpy as np\n",
        "import pandas as pd\n",
        "from pandas import read_csv\n"
      ],
      "execution_count": 1,
      "outputs": []
    },
    {
      "cell_type": "markdown",
      "metadata": {
        "id": "t3XljYRpJyei"
      },
      "source": [
        "**Load Data**"
      ]
    },
    {
      "cell_type": "code",
      "metadata": {
        "id": "xNyTlZFErWZg",
        "colab": {
          "base_uri": "https://localhost:8080/"
        },
        "outputId": "074fa0c8-9a8c-4425-925e-8bd971b5b6b6"
      },
      "source": [
        "from google.colab import drive\n",
        "drive.mount('/content/drive/')"
      ],
      "execution_count": 3,
      "outputs": [
        {
          "output_type": "stream",
          "name": "stdout",
          "text": [
            "Mounted at /content/drive/\n"
          ]
        }
      ]
    },
    {
      "cell_type": "code",
      "metadata": {
        "id": "z6lz0BGO38jA",
        "colab": {
          "base_uri": "https://localhost:8080/"
        },
        "outputId": "bbcfc039-72fc-4b3b-8a48-bd01ccfbef46"
      },
      "source": [
        "data = read_csv(\"/content/drive/My Drive/Colab Notebooks/Dataset AI/Klasifikasi Hoax/data.csv\")\n",
        "print(data.head())"
      ],
      "execution_count": 18,
      "outputs": [
        {
          "output_type": "stream",
          "name": "stdout",
          "text": [
            "  Berita  Like  Provokasi  Komentar  Emosi  Hoax\n",
            "0  B0001    29         66        52     70     1\n",
            "1  B0002    27         23        74     52     1\n",
            "2  B0003    19         43        54     33     0\n",
            "3  B0004    21         90        90     85     1\n",
            "4  B0005    27         56        49     53     0\n"
          ]
        }
      ]
    },
    {
      "cell_type": "code",
      "metadata": {
        "id": "eo7HxB-C0ntR"
      },
      "source": [
        "# creating instance of labelencoder\n",
        "labelencoder = LabelEncoder()\n",
        "data['Like'] = labelencoder.fit_transform(data['Like'])\n",
        "data['Provokasi'] = labelencoder.fit_transform(data['Provokasi'])\n",
        "data['Komentar'] = labelencoder.fit_transform(data['Komentar'])\n",
        "data['Emosi'] = labelencoder.fit_transform(data['Emosi'])\n"
      ],
      "execution_count": 19,
      "outputs": []
    },
    {
      "cell_type": "code",
      "metadata": {
        "id": "6b6Au6cq0sl6"
      },
      "source": [
        "X = data[['Like','Provokasi','Komentar','Emosi']]\n",
        "y = data.Hoax\n"
      ],
      "execution_count": 20,
      "outputs": []
    },
    {
      "cell_type": "markdown",
      "metadata": {
        "id": "7Ed6jZJHLi2J"
      },
      "source": [
        "**Split Data into Training and Testing Data**"
      ]
    },
    {
      "cell_type": "code",
      "metadata": {
        "id": "UdH516Gv0u6R"
      },
      "source": [
        "X_train, X_test, y_train, y_test = train_test_split(X, y, random_state=1)"
      ],
      "execution_count": 21,
      "outputs": []
    },
    {
      "cell_type": "markdown",
      "metadata": {
        "id": "VfD5HwbgL9gE"
      },
      "source": [
        "**Data Preprocessing**"
      ]
    },
    {
      "cell_type": "markdown",
      "metadata": {
        "id": "g58Tir6vMbX8"
      },
      "source": [
        "ANN sensitif terhadap penskalaan fitur, sehingga sangat disarankan untuk menskala data yang kita miliki. Ada banyak metode berbeda untuk normalisasi data, kita akan menggunakan StandardScaler bawaan untuk standardisasi."
      ]
    },
    {
      "cell_type": "code",
      "metadata": {
        "id": "3mqpeiUZ0xeI",
        "colab": {
          "base_uri": "https://localhost:8080/"
        },
        "outputId": "c446dcd8-333a-4860-cd74-82a6c94081e8"
      },
      "source": [
        "scaler = StandardScaler()\n",
        "# Fit only to the training data\n",
        "scaler.fit(X_train)"
      ],
      "execution_count": 22,
      "outputs": [
        {
          "output_type": "execute_result",
          "data": {
            "text/plain": [
              "StandardScaler()"
            ]
          },
          "metadata": {},
          "execution_count": 22
        }
      ]
    },
    {
      "cell_type": "code",
      "metadata": {
        "id": "vBWN6zDN03-S"
      },
      "source": [
        "# Now apply the transformations to the data:\n",
        "X_train = scaler.transform(X_train)\n",
        "X_test = scaler.transform(X_test)"
      ],
      "execution_count": 23,
      "outputs": []
    },
    {
      "cell_type": "markdown",
      "metadata": {
        "id": "wL9E4SJjMtAC"
      },
      "source": [
        "**Training Model**"
      ]
    },
    {
      "cell_type": "markdown",
      "metadata": {
        "id": "-BhJwwetPsEP"
      },
      "source": [
        "Ada banyak parameter yang dapat pilih untuk didefinisikan dan dikustomisasi dalam pemodelan ANN. Parameter yang diatur di sini adalah jumlah hidden layer dan jumlah neuron di setiap layernya. Sedangkan parameter lainnya menggunakan nilai default. Silakan mengubah parameter dan melihat pengaruhnya terhadap model pelatihan."
      ]
    },
    {
      "cell_type": "code",
      "metadata": {
        "id": "ZoP-Urrh0-py"
      },
      "source": [
        "mlp = MLPClassifier(activation='relu', alpha=0.0001, batch_size='auto', beta_1=0.9,\n",
        "       beta_2=0.999, early_stopping=False, epsilon=1e-08,\n",
        "       hidden_layer_sizes=(30, 30, 30), learning_rate='constant',\n",
        "       learning_rate_init=0.001, max_iter=200, momentum=0.9,\n",
        "       nesterovs_momentum=True, power_t=0.5, random_state=None,\n",
        "       shuffle=True, solver='adam', tol=0.0001, validation_fraction=0.1,\n",
        "       verbose=False, warm_start=False)"
      ],
      "execution_count": 24,
      "outputs": []
    },
    {
      "cell_type": "markdown",
      "metadata": {
        "id": "g-sALzKzP7SO"
      },
      "source": [
        "Setelah model dibuat, data pelatihan di-fit-kan dengan model."
      ]
    },
    {
      "cell_type": "code",
      "metadata": {
        "id": "CvTiOary1BW3",
        "colab": {
          "base_uri": "https://localhost:8080/"
        },
        "outputId": "4c78b5b3-c75a-4b88-9b68-8810516a6dc6"
      },
      "source": [
        "mlp.fit(X_train,y_train)"
      ],
      "execution_count": 25,
      "outputs": [
        {
          "output_type": "stream",
          "name": "stderr",
          "text": [
            "/usr/local/lib/python3.7/dist-packages/sklearn/neural_network/_multilayer_perceptron.py:696: ConvergenceWarning: Stochastic Optimizer: Maximum iterations (200) reached and the optimization hasn't converged yet.\n",
            "  ConvergenceWarning,\n"
          ]
        },
        {
          "output_type": "execute_result",
          "data": {
            "text/plain": [
              "MLPClassifier(hidden_layer_sizes=(30, 30, 30))"
            ]
          },
          "metadata": {},
          "execution_count": 25
        }
      ]
    },
    {
      "cell_type": "markdown",
      "metadata": {
        "id": "-ASm0G9oQD5e"
      },
      "source": [
        "**Prediksi dan Evaluasi Model**"
      ]
    },
    {
      "cell_type": "markdown",
      "metadata": {
        "id": "dVQ7r72RQ8uQ"
      },
      "source": [
        "Dengan model yang sudah dilatih, dilakukan prediksi label dari data uji."
      ]
    },
    {
      "cell_type": "code",
      "metadata": {
        "id": "BXVHFmgW1HOx",
        "colab": {
          "base_uri": "https://localhost:8080/"
        },
        "outputId": "0faefb65-99fe-4211-8b52-9d1a1b40db4f"
      },
      "source": [
        "predictions = mlp.predict(X_test)\n",
        "print(X_test)\n",
        "print(predictions)"
      ],
      "execution_count": 26,
      "outputs": [
        {
          "output_type": "stream",
          "name": "stdout",
          "text": [
            "[[ 0.94794738 -0.13165015  1.3678172   0.39518755]\n",
            " [ 0.32085981  1.87778889  0.82475424  0.26590046]\n",
            " [-0.30622777  1.44719481  1.16416859  1.62341496]\n",
            " ...\n",
            " [ 0.07002478 -0.41871287 -0.39713742  0.07196982]\n",
            " [ 0.82252987  1.87778889 -0.19348881  1.36484077]\n",
            " [ 0.44627732 -1.0406821   0.21380841 -0.63910921]]\n",
            "[1 1 1 0 1 1 0 0 1 0 0 1 0 0 1 0 0 0 0 0 1 1 0 0 1 1 0 1 0 0 1 0 0 1 1 0 1\n",
            " 1 0 1 1 1 1 0 0 0 0 0 1 0 0 0 1 0 1 1 0 0 0 0 1 0 1 0 1 0 0 0 0 1 1 1 1 0\n",
            " 0 0 0 0 0 0 0 0 1 1 0 0 1 0 1 0 1 1 0 0 0 1 1 0 0 0 0 1 0 1 0 0 0 1 0 1 1\n",
            " 1 0 1 1 0 0 0 0 0 1 0 1 0 0 1 1 1 0 1 1 1 1 0 1 1 0 0 1 0 0 0 0 0 0 1 1 0\n",
            " 0 1 0 0 0 1 0 0 1 1 0 0 0 1 0 1 0 1 1 0 1 0 1 1 0 0 0 1 1 1 0 0 0 1 0 1 1\n",
            " 1 1 1 0 1 1 0 0 0 1 0 0 1 1 0 0 0 1 0 0 0 1 1 1 0 0 0 0 1 1 0 1 1 0 1 0 1\n",
            " 1 0 1 1 0 0 1 0 0 0 1 1 0 0 1 1 1 1 0 1 1 1 1 1 1 1 1 1 0 0 0 1 0 1 0 0 1\n",
            " 0 0 0 0 0 1 1 0 1 1 0 0 1 0 1 1 1 0 1 1 1 0 1 1 1 0 0 1 0 0 0 1 1 0 0 1 0\n",
            " 1 1 1 0 0 1 0 1 0 1 1 1 1 1 0 1 0 0 1 0 1 1 0 1 1 0 1 1 0 1 1 0 0 1 0 1 0\n",
            " 1 1 0 0 1 1 0 0 0 1 1 0 1 0 1 1 0 1 0 0 0 0 1 1 1 1 1 0 1 1 0 1 1 1 1 0 1\n",
            " 0 0 1 0 0 0 0 1 1 1 0 0 1 1 1 0 1 1 0 1 1 0 0 1 0 1 1 0 1 0 1 1 0 1 1 1 0\n",
            " 1 1 0 0 0 1 1 1 1 1 0 1 0 0 1 0 0 1 0 1 1 0 0 0 0 1 1 1 1 0 1 0 0 0 1 0 1\n",
            " 0 1 0 0 0 1 0 1 1 0 0 0 0 0 1 1 0 0 1 0 0 0 0 0 0 0 1 0 1 0 0 0 0 1 1 1 1\n",
            " 1 1 0 1 0 0 1 0 1 1 0 0 1 1 0 0 1 1 1 1 0 1 0 0 1 0 1 0 0 0 1 0 0 0 0 0 1\n",
            " 1 0 1 1 1 1 1 0 0 1 0 1 0 0 1 1 1 1 1 1 0 0 1 1 1 0 0 1 1 0 0 0 0 0 0 0 0\n",
            " 0 0 0 1 1 0 0 1 1 0 1 0 0 1 1 0 1 1 0 1 0 1 1 1 1 1 1 1 1 0 0 1 0 0 1 0 1\n",
            " 1 1 1 1 1 0 0 0 1 0 0 0 0 0 1 0 1 0 1 0 1 1 1 0 0 1 0 0 0 1 0 1 1 1 1 1 1\n",
            " 0 1 0 1 0 0 0 1 0 0 0 1 0 0 1 1 1 0 1 1 0 1 1 1 0 1 1 0 0 0 0 0 0 1 0 0 0\n",
            " 0 0 1 0 0 0 0 0 0 0 0 1 0 0 0 0 0 0 0 1 0 1 1 0 0 1 1 0 0 1 1 0 0 0 1 0 0\n",
            " 0 0 0 0 1 1 0 0 1 0 0 1 0 1 1 0 0 1 1 1 1 1 1 1 1 1 0 0 1 0 0 1 1 1 0 1 0\n",
            " 1 0 1 0 1 1 0 1 0 0 0 1 0 1 0 0 1 0 0 0 0 0 0 1 1 0 0 1 0 0 1 0 0 0 0 1 1\n",
            " 0 1 0 1 1 0 1 1 0 1 0 0 1 1 0 1 0 1 0 0 0 0 1 1 0 0 1 0 0 1 1 1 1 0 0 0 1\n",
            " 1 0 0 1 0 0 0 0 0 0 1 0 1 1 1 1 1 0 0 1 0 1 0 1 1 1 1 1 0 0 0 1 0 1 1 1 1\n",
            " 0 0 0 0 1 0 0 1 1 0 1 1 0 1 1 0 1 1 0 1 0 1 0 0 1 1 1 1 1 1 0 0 0 0 0 1 0\n",
            " 0 1 0 0 0 0 1 0 0 0 1 1 0 0 0 1 1 0 0 0 0 1 1 0 1 1 0 0 0 1 1 1 0 1 0 1 0\n",
            " 1 1 1 1 0 1 0 0 1 0 1 0 0 0 0 0 1 0 1 0 0 1 0 1 1 1 0 0 0 0 0 1 0 1 0 0 0\n",
            " 0 1 0 1 1 0 0 1 1 0 0 1 1 0 0 1 1 1 1 1 0 0 0 1 0 1 1 0 0 1 0 0 1 0 0 0 1\n",
            " 0]\n"
          ]
        }
      ]
    },
    {
      "cell_type": "markdown",
      "metadata": {
        "id": "Ou4KF7QnREZ2"
      },
      "source": [
        "Untuk melihat performansi dari model, maka dilakukan evaluasi terhadap hasil prediksi, menggunakan confusion matrix, precision,recall, dan f-measure."
      ]
    },
    {
      "cell_type": "code",
      "metadata": {
        "id": "jv1TvvFj1Jhb",
        "colab": {
          "base_uri": "https://localhost:8080/"
        },
        "outputId": "207eb5c5-9df1-4dc3-b84f-5e0b78a79760"
      },
      "source": [
        "print(confusion_matrix(y_test,predictions))"
      ],
      "execution_count": 27,
      "outputs": [
        {
          "output_type": "stream",
          "name": "stdout",
          "text": [
            "[[363 174]\n",
            " [163 300]]\n"
          ]
        }
      ]
    },
    {
      "cell_type": "code",
      "metadata": {
        "id": "tp5OsllCg0kj",
        "colab": {
          "base_uri": "https://localhost:8080/"
        },
        "outputId": "3b13e28c-2905-400b-c109-33026c4c2ebe"
      },
      "source": [
        "print(classification_report(y_test,predictions))\n",
        "print(\"akurasi:\",metrics.accuracy_score(y_test,predictions))"
      ],
      "execution_count": 28,
      "outputs": [
        {
          "output_type": "stream",
          "name": "stdout",
          "text": [
            "              precision    recall  f1-score   support\n",
            "\n",
            "           0       0.69      0.68      0.68       537\n",
            "           1       0.63      0.65      0.64       463\n",
            "\n",
            "    accuracy                           0.66      1000\n",
            "   macro avg       0.66      0.66      0.66      1000\n",
            "weighted avg       0.66      0.66      0.66      1000\n",
            "\n",
            "akurasi: 0.663\n"
          ]
        }
      ]
    },
    {
      "cell_type": "markdown",
      "metadata": {
        "id": "MNZuyjhTTINI"
      },
      "source": [
        "PREDIKSI DATA BARU"
      ]
    },
    {
      "cell_type": "code",
      "metadata": {
        "id": "hCm6j9CATJ2D",
        "colab": {
          "base_uri": "https://localhost:8080/",
          "height": 646
        },
        "outputId": "86f1cf98-7aaf-453e-a7a0-1b2efae7c3f4"
      },
      "source": [
        "testing = read_csv(\"/content/drive/My Drive/Colab Notebooks/Dataset AI/Klasifikasi Hoax/testing.csv\")\n",
        "print(testing.head())\n",
        "\n",
        "\n",
        "testing['Like'] = labelencoder.fit_transform(testing['Like'])\n",
        "testing['Provokasi'] = labelencoder.fit_transform(testing['Provokasi'])\n",
        "testing['Komentar'] = labelencoder.fit_transform(testing['Komentar'])\n",
        "testing['Emosi'] = labelencoder.fit_transform(testing['Emosi'])\n",
        "\n",
        "X_test = testing[['Like','Provokasi','Komentar','Emosi']]\n",
        "y_predict = mlp.predict(X_test)\n",
        "print(\"\\nHasil Prediksi\\n\")\n",
        "print(y_predict)"
      ],
      "execution_count": null,
      "outputs": [
        {
          "output_type": "stream",
          "text": [
            "  Berita  Like  Provokasi  Komentar  Emosi Hoax\n",
            "0  B4001    14         55        68     45    ?\n",
            "1  B4002    18         76        72     74    ?\n",
            "2  B4003    36         68        68     69    ?\n",
            "3  B4004    18         43        45     56    ?\n",
            "4  B4005    18         62        71     45    ?\n",
            "\n",
            "Hasil Prediksi\n",
            "\n",
            "[0 0 0 1 0 1 0 1 1 0 1 0 1 0 1 0 1 1 0 1 1 1 1 1 1 1 1 1 1 1 0 1 1 1 1 1 0\n",
            " 0 1 1 0 0 1 1 1 0 1 1 1 0 1 0 1 1 1 0 0 0 0 1 1 1 1 0 1 0 1 1 1 0 0 1 1 1\n",
            " 0 1 1 0 1 1 0 1 1 1 1 0 1 0 1 1 1 1 1 1 1 0 1 1 1 1 0 0 1 1 1 1 1 0 0 1 0\n",
            " 1 1 0 1 0 1 1 1 0 1 1 1 1 1 0 1 1 0 1 1 1 0 1 1 0 1 0 1 0 0 1 0 1 1 1 1 0\n",
            " 1 0 1 1 0 0 1 1 1 0 1 1 1 1 0 1 1 1 1 1 0 1 0 1 1 1 1 0 1 0 0 1 1 1 0 1 1\n",
            " 0 1 1 1 1 0 1 1 0 0 1 1 1 1 1 1 1 1 0 1 1 1 0 1 1 1 0 1 1 1 0 1 1 1 1 1 1\n",
            " 1 1 1 0 1 1 0 1 0 0 1 1 1 0 1 1 1 1 0 1 0 1 0 0 1 1 1 1 0 1 1 1 1 0 1 1 0\n",
            " 1 1 1 1 0 1 1 1 1 1 1 1 0 0 0 1 1 0 0 1 1 0 1 1 1 0 0 1 0 1 0 1 1 1 1 0 1\n",
            " 0 0 0 0 0 1 0 1 0 1 0 1 1 1 1 1 1 1 1 1 0 1 1 1 0 1 0 0 1 1 1 1 1 1 1 0 1\n",
            " 1 0 1 1 1 0 1 1 0 0 1 0 1 1 1 1 1 0 0 1 1 1 1 1 0 1 1 1 0 1 1 0 1 0 1 0 1\n",
            " 1 0 0 1 0 0 1 0 0 0 1 1 1 1 1 1 1 0 1 1 0 0 1 1 0 1 1 1 1 1 1 0 1 1 0 0 1\n",
            " 1 1 1 0 1 1 1 1 1 1 1 1 0 1 0 0 1 1 0 0 1 0 1 1 1 1 1 0 0 1 0 1 1 0 1 1 1\n",
            " 1 1 0 0 0 1 1 1 1 1 0 0 1 1 0 1 1 0 1 1 1 1 1 1 1 1 1 1 1 0 1 0 1 1 1 1 1\n",
            " 1 1 1 1 1 1 1 1 1 1 0 1 0 1 1 0 0 1 0 1 0 0 1 1 0 1 1 1 1 0 1 1 1 0 1 0 1\n",
            " 1 1 1 0 1 1 1 1 1 0 1 1 1 1 1 1 1 1 1 1 0 1 0 1 0 0 1 1 1 0 1 0 0 1 1 0 1\n",
            " 1 1 1 1 1 1 1 1 1 0 0 1 1 1 1 1 1 1 1 0 1 1 1 1 0 0 0 1 1 1 0 1 1 1 0 1 0\n",
            " 1 1 0 1 1 1 1 1 1 1 1 0 1 1 0 0 0 1 0 0 0 0 1 1 1 0 1 1 1 1 1 1 1 0 0 1 1\n",
            " 0 0 1 0 1 1 0 0 1 0 1 0 0 1 1 0 1 1 0 1 0 1 0 1 1 1 1 1 1 0 1 1 1 1 1 1 0\n",
            " 1 0 1 1 0 1 0 1 0 0 0 0 1 0 1 0 1 1 1 0 1 1 1 1 1 1 0 1 0 1 1 0 1 1 1 1 0\n",
            " 0 1 1 0 0 1 0 1 1 1 1 1 1 1 1 1 1 1 1 1 0 1 1 1 1 1 1 1 1 1 1 1 0 1 1 1 0\n",
            " 1 0 1 1 1 1 0 1 1 1 1 1 0 1 1 0 1 0 0 0 1 0 0 1 1 1 0 0 1 1 1 1 1 1 1 1 1\n",
            " 1 1 0 1 0 0 0 0 0 1 1 0 1 1 0 1 1 1 1 0 1 0 1 1 1 0 1 0 1 0 1 1 1 1 1 0 1\n",
            " 1 1 0 1 1 1 0 1 0 1 1 1 1 1 0 1 1 0 1 0 1 1 1 1 1 1 1 1 1 0 0 1 1 1 0 0 1\n",
            " 1 0 0 1 0 0 1 0 1 1 1 0 1 1 0 1 1 1 1 1 1 1 0 1 0 0 1 1 1 0 0 1 1 0 1 0 0\n",
            " 0 0 1 0 0 1 0 0 0 1 1 1 0 0 0 1 1 1 1 1 1 1 1 1 1 1 1 1 0 1 1 1 1 1 1 0 1\n",
            " 0 0 1 1 1 0 1 0 1 0 0 1 0 1 1 0 1 1 1 1 1 1 1 1 1 1 1 1 0 0 1 1 0 1 0 0 1\n",
            " 1 1 1 1 1 1 1 1 1 0 1 1 1 1 0 1 1 0 1 0 1 0 1 0 1 1 1 1 1 1 1 1 0 0 1 1 0\n",
            " 0]\n"
          ],
          "name": "stdout"
        }
      ]
    },
    {
      "cell_type": "code",
      "metadata": {
        "id": "KmFEE_YmTMeV",
        "colab": {
          "base_uri": "https://localhost:8080/",
          "height": 34
        },
        "outputId": "7443ec53-eaa1-4cca-fa73-f704f66df1c3"
      },
      "source": [
        "#prediksi data baru dari variabel\n",
        "\n",
        "x_new = [[0,1,0,1]]\n",
        "y_predict = mlp.predict(x_new)\n",
        "\n",
        "print (y_predict)"
      ],
      "execution_count": null,
      "outputs": [
        {
          "output_type": "stream",
          "text": [
            "[1]\n"
          ],
          "name": "stdout"
        }
      ]
    }
  ]
}